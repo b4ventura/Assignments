{
 "cells": [
  {
   "cell_type": "markdown",
   "metadata": {},
   "source": [
    "# Python Built-in Modules Writing Assignment"
   ]
  },
  {
   "cell_type": "markdown",
   "metadata": {},
   "source": [
    "## Import math module and find the cosine of pi/4. "
   ]
  },
  {
   "cell_type": "code",
   "execution_count": null,
   "metadata": {},
   "outputs": [],
   "source": [
    "import math\n",
    "x=math.cos(math.pi/4)\n",
    "print (\"cosine of pi/4 is %f\" % (x))\n"
   ]
  },
  {
   "cell_type": "markdown",
   "metadata": {},
   "source": [
    "## From list2 = [6, 12, 15, 21], randomly choose an element. Then use the pow function from math module to determine that element raised to 3 and print it."
   ]
  },
  {
   "cell_type": "code",
   "execution_count": null,
   "metadata": {},
   "outputs": [],
   "source": [
    "list2 = [6, 12, 15, 21]\n",
    "import random\n",
    "x=random.choice(list2)\n",
    "print(\"random.choice from list2 is %i\" % (x))"
   ]
  },
  {
   "cell_type": "markdown",
   "metadata": {},
   "source": [
    "## Seed using the current date and then generate a random number.  Hint:  use datetime.datetime.now().date() to obtain a date object and pass date object into random.seed"
   ]
  },
  {
   "cell_type": "code",
   "execution_count": null,
   "metadata": {},
   "outputs": [],
   "source": [
    "import datetime\n",
    "x = datetime.datetime.now().date()\n",
    "print (x)\n",
    "import random\n",
    "y=random.seed(x)\n",
    "print (\"random.seed is %s\" % y)\n"
   ]
  },
  {
   "cell_type": "markdown",
   "metadata": {},
   "source": [
    "## Use time.clock() to find the time before and time after the for-loop that loops through range(1000) and appends the value to a list called list1. Print the time taken for the loop. "
   ]
  },
  {
   "cell_type": "code",
   "execution_count": null,
   "metadata": {},
   "outputs": [],
   "source": [
    "import time\n",
    "start=time.perf_counter()\n",
    "print (start)\n",
    "l1=[]\n",
    "for i in range (1000):\n",
    "    l1.append(i)\n",
    "    print (l1)\n",
    "stop = time.perf_counter()\n",
    "print (\"time elapsed is %f\" % (stop - start))"
   ]
  }
 ],
 "metadata": {
  "kernelspec": {
   "display_name": "Python 3",
   "language": "python",
   "name": "python3"
  },
  "language_info": {
   "codemirror_mode": {
    "name": "ipython",
    "version": 3
   },
   "file_extension": ".py",
   "mimetype": "text/x-python",
   "name": "python",
   "nbconvert_exporter": "python",
   "pygments_lexer": "ipython3",
   "version": "3.7.0"
  }
 },
 "nbformat": 4,
 "nbformat_minor": 2
}
