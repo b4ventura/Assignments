{
 "cells": [
  {
   "cell_type": "markdown",
   "metadata": {},
   "source": [
    "# Error Handling Writing Assignment"
   ]
  },
  {
   "cell_type": "markdown",
   "metadata": {},
   "source": [
    "## t1 = (10, 11, 12). Perform t1+7 and explain the message."
   ]
  },
  {
   "cell_type": "code",
   "execution_count": null,
   "metadata": {},
   "outputs": [],
   "source": [
    "t1 = (10, 11, 12)\n",
    "t1+7"
   ]
  },
  {
   "cell_type": "markdown",
   "metadata": {},
   "source": [
    "\n",
    "TypeError: can only concatenate tuple (not \"int\") to tuple\n",
    "\n",
    "This error is self explanatory."
   ]
  },
  {
   "cell_type": "markdown",
   "metadata": {},
   "source": [
    "## Write try-except to handle the above tuple concatenation. If there is a problem, then t1 should be concatenated with t2 = (7,) and the result should be stored in t3."
   ]
  },
  {
   "cell_type": "code",
   "execution_count": 47,
   "metadata": {},
   "outputs": [
    {
     "name": "stdout",
     "output_type": "stream",
     "text": [
      "can only concatenate tuple (not \"int\") to tuple\n",
      "t1 + t2 is (10, 11, 12, 7)\n"
     ]
    }
   ],
   "source": [
    "t1 = (10, 11, 12)\n",
    "try:\n",
    "    t1+7\n",
    "except TypeError as e:\n",
    "    print (e)\n",
    "t2 = (7,)\n",
    "t3 = t1 + t2\n",
    "print (\"t1 + t2 is\", t3)"
   ]
  },
  {
   "cell_type": "markdown",
   "metadata": {},
   "source": [
    "[Read error handling in Python](https://docs.python.org/3/tutorial/errors.html)\n",
    "\n",
    "## Write try-except-else-finally to implement problem 2 so that there is a message in else clause, and the final value of t3 will be printed by the finally clause."
   ]
  },
  {
   "cell_type": "code",
   "execution_count": 44,
   "metadata": {},
   "outputs": [
    {
     "name": "stdout",
     "output_type": "stream",
     "text": [
      "can only concatenate tuple (not \"int\") to tuple\n",
      "Concatenating t2 to t1\n",
      "t1 + t2 is (10, 11, 12, 7)\n"
     ]
    }
   ],
   "source": [
    "t1 = (10, 11, 12)\n",
    "t2 = (7,)\n",
    "try:\n",
    "    t1 + 7\n",
    "except TypeError as e:\n",
    "    print (e)\n",
    "    print(\"Concatenating t2 to t1\")\n",
    "    t3 = t1 + t2\n",
    "else:\n",
    "    print (\"No Errors :)\")\n",
    "finally:\n",
    "    print (\"t1 + t2 is\", t3)"
   ]
  },
  {
   "cell_type": "markdown",
   "metadata": {},
   "source": [
    "## Handle index error for list1 = [ 11, 14, 16] using try-except. If the user is accessing an index 6, then you should print “Item at index 6 is not found.”"
   ]
  },
  {
   "cell_type": "code",
   "execution_count": 39,
   "metadata": {},
   "outputs": [
    {
     "name": "stdout",
     "output_type": "stream",
     "text": [
      "Item at index 6 is not found.\n"
     ]
    }
   ],
   "source": [
    "list1 = [ 11, 14, 16]\n",
    "\n",
    "try:\n",
    "    print (list1[6])\n",
    "    \n",
    "except IndexError:\n",
    "    print (\"Item at index 6 is not found.\")\n"
   ]
  },
  {
   "cell_type": "code",
   "execution_count": null,
   "metadata": {},
   "outputs": [],
   "source": []
  }
 ],
 "metadata": {
  "kernelspec": {
   "display_name": "Python 3",
   "language": "python",
   "name": "python3"
  },
  "language_info": {
   "codemirror_mode": {
    "name": "ipython",
    "version": 3
   },
   "file_extension": ".py",
   "mimetype": "text/x-python",
   "name": "python",
   "nbconvert_exporter": "python",
   "pygments_lexer": "ipython3",
   "version": "3.7.0"
  }
 },
 "nbformat": 4,
 "nbformat_minor": 2
}
