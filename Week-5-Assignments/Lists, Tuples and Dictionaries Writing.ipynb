{
 "cells": [
  {
   "cell_type": "markdown",
   "metadata": {},
   "source": [
    "# Lists, Tuples and Dictionaries Writing Assignment"
   ]
  },
  {
   "cell_type": "markdown",
   "metadata": {},
   "source": [
    "## Perform the following operations on list1 = [-11, -4, 5, 12, 13, 14, 19]\n",
    "### - Find the number of elements in list1.\n",
    "### - Append 22 to list1.\n",
    "### - Pop element from index 3. \n",
    "### - Print the popped element as well as list1.\n",
    "### - Convert the list to tuple. Then print the tuple."
   ]
  },
  {
   "cell_type": "code",
   "execution_count": null,
   "metadata": {},
   "outputs": [],
   "source": [
    "list1 = [-11, -4, 5, 12, 13, 14, 19]\n",
    "print(\"Number of items on list1 is %i\" % len(list1))"
   ]
  },
  {
   "cell_type": "code",
   "execution_count": null,
   "metadata": {},
   "outputs": [],
   "source": [
    "list1 = [-11, -4, 5, 12, 13, 14, 19]\n",
    "list1.append(22)\n",
    "print(\"list1 plus 22 is %s\" % (list1))"
   ]
  },
  {
   "cell_type": "code",
   "execution_count": null,
   "metadata": {},
   "outputs": [],
   "source": [
    "list1 = [-11, -4, 5, 12, 13, 14, 19]\n",
    "print(\"element at index3 of list1 is %s\" % list1.pop(2))\n",
    "list1.pop(3)\n",
    "print(\"list1 minus index3 is %s\" % list1)"
   ]
  },
  {
   "cell_type": "code",
   "execution_count": null,
   "metadata": {},
   "outputs": [],
   "source": [
    "list1 = [-11, -4, 5, 12, 13, 14, 19]\n",
    "tuple1 = tuple(list1)\n",
    "print (\"list1 converted to tuple is\", tuple1)"
   ]
  },
  {
   "cell_type": "markdown",
   "metadata": {},
   "source": [
    "## If t1 = (3, 6, 7, 11) perform all the following operations:\n",
    "### - Find the number of elements in t1.\n",
    "### - Concatenate t1 to t2 = (1, 2) and create t3.\n",
    "### - If possible append -4 to t3. If not, explain why not."
   ]
  },
  {
   "cell_type": "code",
   "execution_count": null,
   "metadata": {},
   "outputs": [],
   "source": [
    "t1 = (3, 6, 7, 11)\n",
    "print (\"number of elements in t1 is \", len(t1))"
   ]
  },
  {
   "cell_type": "code",
   "execution_count": null,
   "metadata": {},
   "outputs": [],
   "source": [
    "t2 = (1,2)\n",
    "t3 = t1 + t2\n",
    "print (\"t1 plus t2 by concatenation is \", t3)"
   ]
  },
  {
   "cell_type": "markdown",
   "metadata": {},
   "source": [
    "t3.append (-4)\n",
    "AttributeError: 'tuple' object has no attribute 'append'"
   ]
  },
  {
   "cell_type": "markdown",
   "metadata": {},
   "source": [
    "## Create a dictionary with 5 key-values so that state is the key and its capital is the value. Print the dictionary."
   ]
  },
  {
   "cell_type": "code",
   "execution_count": null,
   "metadata": {},
   "outputs": [],
   "source": [
    "dict = {'California': 'Sacramento', 'Nevada': 'Carson City', 'Washington': 'Seattle', 'Oregon': 'Portland', 'Arizona': 'Phoenix'}\n",
    "print (\"California\\t: \", dict['California'])\n",
    "print (\"Nevada\\t\\t: \", dict['Nevada'])\n",
    "print (\"Washington\\t: \", dict['Washington'])\n",
    "print (\"Oregon\\t\\t: \", dict['Oregon'])\n",
    "print (\"Arizona\\t\\t: \", dict['Arizona'])"
   ]
  },
  {
   "cell_type": "markdown",
   "metadata": {},
   "source": [
    "# If dictionary1 = {12: \"Amazon\", 14: \"Nvidia\", 15: \"Tesla\"}. Perform required operations to get the following. If you can’t perform a specific operation, explain:\n",
    "### - The length of the dictionary?\n",
    "### - The value for 14?\n",
    "### - Print  the keys and values as lists.  \n",
    "### - Value for dictionary1[16]?"
   ]
  },
  {
   "cell_type": "code",
   "execution_count": null,
   "metadata": {},
   "outputs": [],
   "source": [
    "dictionary1 = {12: \"Amazon\", 14: \"Nvidia\", 15: \"Tesla\"}\n",
    "print (dictionary1)\n",
    "print (\"The lengh of dictionary1 is\", len(dictionary1))"
   ]
  },
  {
   "cell_type": "code",
   "execution_count": null,
   "metadata": {},
   "outputs": [],
   "source": [
    "print (\"The value of 14 in dictionary1 is\", dictionary1[14])"
   ]
  },
  {
   "cell_type": "code",
   "execution_count": 21,
   "metadata": {},
   "outputs": [
    {
     "name": "stdout",
     "output_type": "stream",
     "text": [
      "The keys in dictionary1 are dict_keys([12, 14, 15])\n",
      "The values in dictionary1 are dict_values(['Amazon', 'Nvidia', 'Tesla'])\n"
     ]
    }
   ],
   "source": []
  },
  {
   "cell_type": "code",
   "execution_count": null,
   "metadata": {},
   "outputs": [],
   "source": [
    "print (\"The value of 16 in dictionary1 is\", dictionary1[16])\n",
    "KeyError: 16"
   ]
  },
  {
   "cell_type": "markdown",
   "metadata": {},
   "source": [
    "## Test Code Area"
   ]
  },
  {
   "cell_type": "code",
   "execution_count": 34,
   "metadata": {},
   "outputs": [
    {
     "name": "stdout",
     "output_type": "stream",
     "text": [
      "dict_keys([12, 14, 15])\n",
      "The keys of dictionary1 are dict_keys([12, 14, 15])\n",
      "The values of dictionary1 are dict_values(['Amazon', 'Nvidia', 'Tesla'])\n"
     ]
    }
   ],
   "source": [
    "dkeys = dictionary1.keys()\n",
    "print(dkeys)\n",
    "print (\"The keys of dictionary1 are\", keys)\n",
    "print (\"The values of dictionary1 are\", values)"
   ]
  },
  {
   "cell_type": "code",
   "execution_count": null,
   "metadata": {},
   "outputs": [],
   "source": []
  }
 ],
 "metadata": {
  "kernelspec": {
   "display_name": "Python 3",
   "language": "python",
   "name": "python3"
  },
  "language_info": {
   "codemirror_mode": {
    "name": "ipython",
    "version": 3
   },
   "file_extension": ".py",
   "mimetype": "text/x-python",
   "name": "python",
   "nbconvert_exporter": "python",
   "pygments_lexer": "ipython3",
   "version": "3.7.0"
  }
 },
 "nbformat": 4,
 "nbformat_minor": 2
}
