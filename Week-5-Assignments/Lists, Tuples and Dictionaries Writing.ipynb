{
 "cells": [
  {
   "cell_type": "markdown",
   "metadata": {},
   "source": [
    "# Lists, Tuples and Dictionaries Writing Assignment"
   ]
  },
  {
   "cell_type": "markdown",
   "metadata": {},
   "source": [
    "## Perform the following operations on list1 = [-11, -4, 5, 12, 13, 14, 19]\n",
    "### - Find the number of elements in list1.\n",
    "### - Append 22 to list1.\n",
    "### - Pop element from index 3. \n",
    "### - Print the popped element as well as list1.\n",
    "### - Convert the list to tuple. Then print the tuple."
   ]
  },
  {
   "cell_type": "code",
   "execution_count": null,
   "metadata": {},
   "outputs": [],
   "source": [
    "list1 = [-11, -4, 5, 12, 13, 14, 19]\n",
    "print(\"Number of items on list1 is %i\" % len(list1))"
   ]
  },
  {
   "cell_type": "code",
   "execution_count": null,
   "metadata": {},
   "outputs": [],
   "source": [
    "list1 = [-11, -4, 5, 12, 13, 14, 19]\n",
    "list1.append(22)\n",
    "print(\"list1 plus 22 is %s\" % (list1))"
   ]
  },
  {
   "cell_type": "code",
   "execution_count": null,
   "metadata": {},
   "outputs": [],
   "source": [
    "list1 = [-11, -4, 5, 12, 13, 14, 19]\n",
    "print(\"element at index3 of list1 is %s\" % list1.pop(2))\n",
    "list1.pop(3)\n",
    "print(\"list1 minus index3 is %s\" % list1)"
   ]
  },
  {
   "cell_type": "code",
   "execution_count": null,
   "metadata": {},
   "outputs": [],
   "source": [
    "list1 = [-11, -4, 5, 12, 13, 14, 19]\n",
    "tuple1 = tuple(list1)\n",
    "print (\"list1 converted to tuple is\", tuple1)"
   ]
  },
  {
   "cell_type": "markdown",
   "metadata": {},
   "source": [
    "## If t1 = (3, 6, 7, 11) perform all the following operations:\n",
    "### - Find the number of elements in t1.\n",
    "### - Concatenate t1 to t2 = (1, 2) and create t3.\n",
    "### - If possible append -4 to t3. If not, explain why not."
   ]
  },
  {
   "cell_type": "code",
   "execution_count": null,
   "metadata": {},
   "outputs": [],
   "source": [
    "t1 = (3, 6, 7, 11)\n",
    "print (\"number of elements in t1 is \", len(t1))"
   ]
  },
  {
   "cell_type": "code",
   "execution_count": null,
   "metadata": {},
   "outputs": [],
   "source": [
    "t2 = (1,2)\n",
    "t3 = t1 + t2\n",
    "print (\"t1 plus t2 by concatenation is \", t3)"
   ]
  },
  {
   "cell_type": "markdown",
   "metadata": {},
   "source": [
    "t3.append (-4)\n",
    "AttributeError: 'tuple' object has no attribute 'append'"
   ]
  },
  {
   "cell_type": "markdown",
   "metadata": {},
   "source": [
    "## Create a dictionary with 5 key-values so that state is the key and its capital is the value. Print the dictionary."
   ]
  },
  {
   "cell_type": "code",
   "execution_count": null,
   "metadata": {},
   "outputs": [],
   "source": [
    "dict = {'California': 'Sacramento', 'Nevada': 'Carson City', 'Washington': 'Seattle', 'Oregon': 'Portland', 'Arizona': 'Phoenix'}\n",
    "print (\"California\\t: \", dict['California'])\n",
    "print (\"Nevada\\t\\t: \", dict['Nevada'])\n",
    "print (\"Washington\\t: \", dict['Washington'])\n",
    "print (\"Oregon\\t\\t: \", dict['Oregon'])\n",
    "print (\"Arizona\\t\\t: \", dict['Arizona'])"
   ]
  },
  {
   "cell_type": "markdown",
   "metadata": {},
   "source": [
    "# If dictionary1 = {12: \"Amazon\", 14: \"Nvidia\", 15: \"Tesla\"}. Perform required operations to get the following. If you can’t perform a specific operation, explain:\n",
    "### - The length of the dictionary?\n",
    "### - The value for 14?\n",
    "### - Print  the keys and values as lists.  \n",
    "### - Value for dictionary1[16]?"
   ]
  },
  {
   "cell_type": "code",
   "execution_count": null,
   "metadata": {},
   "outputs": [],
   "source": [
    "dictionary1 = {12: \"Amazon\", 14: \"Nvidia\", 15: \"Tesla\"}\n",
    "print (dictionary1)\n",
    "print (\"The lengh of dictionary1 is\", len(dictionary1))"
   ]
  },
  {
   "cell_type": "code",
   "execution_count": null,
   "metadata": {},
   "outputs": [],
   "source": [
    "print (\"The value of 14 in dictionary1 is\", dictionary1[14])"
   ]
  },
  {
   "cell_type": "code",
   "execution_count": null,
   "metadata": {},
   "outputs": [],
   "source": [
    "dictionary1 = {12: \"Amazon\", 14: \"Nvidia\", 15: \"Tesla\"}\n",
    "dictionary1.keys()\n",
    "dictionary1.values()\n",
    "dlist = list()\n",
    "\n",
    "for x in dictionary1.keys():\n",
    "    dlist.append(x)\n",
    "\n",
    "for y in dictionary1.values():\n",
    "    dlist.append(y)\n",
    "        \n",
    "print (\"The list fron dictionary1, dlist is\", dlist)"
   ]
  },
  {
   "cell_type": "code",
   "execution_count": null,
   "metadata": {},
   "outputs": [],
   "source": [
    "print (\"The value of 16 in dictionary1 is\", dictionary1[16])\n",
    "KeyError: 16"
   ]
  }
 ],
 "metadata": {
  "kernelspec": {
   "display_name": "Python 3",
   "language": "python",
   "name": "python3"
  },
  "language_info": {
   "codemirror_mode": {
    "name": "ipython",
    "version": 3
   },
   "file_extension": ".py",
   "mimetype": "text/x-python",
   "name": "python",
   "nbconvert_exporter": "python",
   "pygments_lexer": "ipython3",
   "version": "3.7.0"
  }
 },
 "nbformat": 4,
 "nbformat_minor": 2
}
