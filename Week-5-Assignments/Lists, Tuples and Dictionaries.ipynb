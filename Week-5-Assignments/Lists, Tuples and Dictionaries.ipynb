{
 "cells": [
  {
   "cell_type": "markdown",
   "metadata": {},
   "source": [
    "# Lists, Tuples and Dictionaries Assignment"
   ]
  },
  {
   "cell_type": "markdown",
   "metadata": {},
   "source": [
    "## If list1 = [14, 23, 27, 32], reverse the elements in list1 and print list1.\n",
    "## If list2 = [13, 19, 27, 35, 37, 12]\n",
    "\n",
    "## Perform the following sequentially and after every operation print the list:"
   ]
  },
  {
   "cell_type": "markdown",
   "metadata": {},
   "source": [
    "### 1) sort list2"
   ]
  },
  {
   "cell_type": "code",
   "execution_count": 7,
   "metadata": {},
   "outputs": [
    {
     "name": "stdout",
     "output_type": "stream",
     "text": [
      "list1 is [14, 23, 27, 32]\n",
      "reverse of list1 is [32, 27, 23, 14]\n"
     ]
    }
   ],
   "source": [
    "list1 = [14, 23, 27, 32]\n",
    "print (\"list1 is %s\" % list1)\n",
    "print (\"reverse of list1 is %s\" % list1[::-1])"
   ]
  },
  {
   "cell_type": "code",
   "execution_count": 22,
   "metadata": {},
   "outputs": [
    {
     "name": "stdout",
     "output_type": "stream",
     "text": [
      "if list2 is [13, 19, 27, 35, 37, 12]\n",
      "list2 sorted is [12, 13, 19, 27, 35, 37]\n"
     ]
    }
   ],
   "source": [
    "list2 = [13, 19, 27, 35, 37, 12]\n",
    "print (\"if list2 is %s\" % list2)\n",
    "list2.sort()\n",
    "print (\"list2 sorted is %s\" % list2)"
   ]
  },
  {
   "cell_type": "markdown",
   "metadata": {},
   "source": [
    "### 2) pop element at index 2"
   ]
  },
  {
   "cell_type": "code",
   "execution_count": 33,
   "metadata": {},
   "outputs": [
    {
     "name": "stdout",
     "output_type": "stream",
     "text": [
      "element at index of list2 is 27\n",
      "element at index of list2 after sort is 19\n"
     ]
    }
   ],
   "source": [
    "list2 = [13, 19, 27, 35, 37, 12]\n",
    "print (\"element at index of list2 is %s\" % list2.pop(2))\n",
    "list2.sort()\n",
    "print (\"element at index of list2 after sort is %s\" % list2.pop(2))"
   ]
  },
  {
   "cell_type": "markdown",
   "metadata": {},
   "source": [
    "### 3) insert value of 25 at index 2"
   ]
  },
  {
   "cell_type": "code",
   "execution_count": 35,
   "metadata": {},
   "outputs": [
    {
     "name": "stdout",
     "output_type": "stream",
     "text": [
      "list2 is [13, 19, 27, 35, 37, 12]\n",
      "list2 after insert is [13, 19, 25, 27, 35, 37, 12]\n"
     ]
    }
   ],
   "source": [
    "list2 = [13, 19, 27, 35, 37, 12]\n",
    "print (\"list2 is %s\" % list2)\n",
    "list2.insert( 2, 25)\n",
    "print (\"list2 after insert is %s\" % list2)"
   ]
  },
  {
   "cell_type": "markdown",
   "metadata": {},
   "source": [
    "### 4) append 10 to list2"
   ]
  },
  {
   "cell_type": "code",
   "execution_count": 36,
   "metadata": {},
   "outputs": [
    {
     "name": "stdout",
     "output_type": "stream",
     "text": [
      "list2 is [13, 19, 27, 35, 37, 12]\n",
      "list2 after append is [13, 19, 27, 35, 37, 12, 10]\n"
     ]
    }
   ],
   "source": [
    "list2 = [13, 19, 27, 35, 37, 12]\n",
    "print (\"list2 is %s\" % list2)\n",
    "list2.append(10)\n",
    "print (\"list2 after append is %s\" % list2)"
   ]
  },
  {
   "cell_type": "markdown",
   "metadata": {},
   "source": [
    "### 5) clear elements from list2"
   ]
  },
  {
   "cell_type": "code",
   "execution_count": 37,
   "metadata": {},
   "outputs": [
    {
     "name": "stdout",
     "output_type": "stream",
     "text": [
      "list2 is [13, 19, 27, 35, 37, 12]\n",
      "list2 after clear is []\n"
     ]
    }
   ],
   "source": [
    "list2 = [13, 19, 27, 35, 37, 12]\n",
    "print (\"list2 is %s\" % list2)\n",
    "list2.clear()\n",
    "print (\"list2 after clear is %s\" % list2)"
   ]
  },
  {
   "cell_type": "code",
   "execution_count": null,
   "metadata": {},
   "outputs": [],
   "source": []
  }
 ],
 "metadata": {
  "kernelspec": {
   "display_name": "Python 3",
   "language": "python",
   "name": "python3"
  },
  "language_info": {
   "codemirror_mode": {
    "name": "ipython",
    "version": 3
   },
   "file_extension": ".py",
   "mimetype": "text/x-python",
   "name": "python",
   "nbconvert_exporter": "python",
   "pygments_lexer": "ipython3",
   "version": "3.7.0"
  }
 },
 "nbformat": 4,
 "nbformat_minor": 2
}
