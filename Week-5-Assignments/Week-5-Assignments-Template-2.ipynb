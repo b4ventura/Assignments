{
 "cells": [
  {
   "cell_type": "markdown",
   "metadata": {},
   "source": [
    "# Lists, Tuples and Dictionaries Writing Assignment"
   ]
  },
  {
   "cell_type": "markdown",
   "metadata": {},
   "source": [
    "## Perform the following operations on list1 = [-11, -4, 5, 12, 13, 14, 19]\n",
    "### - Find the number of elements in list1.\n",
    "### - Append 22 to list1.\n",
    "### - Pop element from index 3. \n",
    "### - Print the popped element as well as list1.\n",
    "### - Convert the list to tuple. Then print the tuple."
   ]
  },
  {
   "cell_type": "code",
   "execution_count": null,
   "metadata": {
    "collapsed": true
   },
   "outputs": [],
   "source": []
  },
  {
   "cell_type": "markdown",
   "metadata": {},
   "source": [
    "## If t1 = (3, 6, 7, 11) perform all the following operations:\n",
    "### - Find the number of elements in t1.\n",
    "### - Concatenate t1 to t2 = (1, 2) and create t3.\n",
    "### - If possible append -4 to t3. If not, explain why not."
   ]
  },
  {
   "cell_type": "code",
   "execution_count": null,
   "metadata": {
    "collapsed": true
   },
   "outputs": [],
   "source": []
  },
  {
   "cell_type": "markdown",
   "metadata": {},
   "source": [
    "## Create a dictionary with 5 key-values so that state is the key and its capital is the value. Print the dictionary."
   ]
  },
  {
   "cell_type": "code",
   "execution_count": null,
   "metadata": {
    "collapsed": true
   },
   "outputs": [],
   "source": []
  },
  {
   "cell_type": "markdown",
   "metadata": {},
   "source": [
    "## If dictionary1 = {12: \"Amazon\", 14: \"Nvidia\", 15: \"Tesla\"}. Perform required operations to get the following. If you can’t perform a specific operation, explain:\n",
    "### - The length of the dictionary?\n",
    "### - The value for 14?\n",
    "### - Print  the keys and values as lists.  \n",
    "### - Value for dictionary1[16]?"
   ]
  },
  {
   "cell_type": "code",
   "execution_count": null,
   "metadata": {
    "collapsed": true
   },
   "outputs": [],
   "source": []
  }
 ],
 "metadata": {
  "kernelspec": {
   "display_name": "Python 3",
   "language": "python",
   "name": "python3"
  },
  "language_info": {
   "codemirror_mode": {
    "name": "ipython",
    "version": 3
   },
   "file_extension": ".py",
   "mimetype": "text/x-python",
   "name": "python",
   "nbconvert_exporter": "python",
   "pygments_lexer": "ipython3",
   "version": "3.5.2"
  }
 },
 "nbformat": 4,
 "nbformat_minor": 2
}
