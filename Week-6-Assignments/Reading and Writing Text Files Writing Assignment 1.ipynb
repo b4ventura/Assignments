{
 "cells": [
  {
   "cell_type": "markdown",
   "metadata": {},
   "source": [
    "# Reading and Writing Text Files Writing Assignment 1"
   ]
  },
  {
   "cell_type": "markdown",
   "metadata": {},
   "source": [
    "1. Read file text1.txt and count the number of non-empty lines in the file. Use tell() to find the file pointer’s position."
   ]
  },
  {
   "cell_type": "markdown",
   "metadata": {},
   "source": [
    "### text1.txt file contents"
   ]
  },
  {
   "cell_type": "markdown",
   "metadata": {},
   "source": [
    "```\n",
    "fun will follow\n",
    "when you\n",
    "work\n",
    "and\n",
    "finish tasks\n",
    "```"
   ]
  },
  {
   "cell_type": "markdown",
   "metadata": {},
   "source": [
    "reference: https://www.tutorialspoint.com/python/python_files_io.htm"
   ]
  },
  {
   "cell_type": "code",
   "execution_count": 1,
   "metadata": {},
   "outputs": [
    {
     "name": "stdout",
     "output_type": "stream",
     "text": [
      "Number of lines in text1.txt =  5\n"
     ]
    }
   ],
   "source": [
    "fh = open(\"text1.txt\", \"r\")\n",
    "num_lines = sum(1 for line in open('text1.txt'))\n",
    "print (\"Number of lines in text1.txt = \", num_lines)"
   ]
  },
  {
   "cell_type": "code",
   "execution_count": 2,
   "metadata": {},
   "outputs": [
    {
     "name": "stdout",
     "output_type": "stream",
     "text": [
      "Current Position:  0\n"
     ]
    }
   ],
   "source": [
    "pos = fh.tell()\n",
    "print (\"Current Position: \" , (pos))"
   ]
  },
  {
   "cell_type": "markdown",
   "metadata": {},
   "source": [
    "2.Write the following words in to a new file day1.txt.\n",
    "- absolutely\n",
    "- productive\n",
    "- day"
   ]
  },
  {
   "cell_type": "code",
   "execution_count": 7,
   "metadata": {},
   "outputs": [],
   "source": [
    "fh = open(\"day1.txt\", \"w\")\n",
    "fh.write( \"absolutely\\nproductive\\nday\\n\")\n",
    "fh.close()"
   ]
  },
  {
   "cell_type": "markdown",
   "metadata": {},
   "source": [
    "3.What is the difference between\n",
    "- read() and readlines() methods.\n",
    "- Write and append access modes."
   ]
  },
  {
   "cell_type": "code",
   "execution_count": 4,
   "metadata": {},
   "outputs": [
    {
     "name": "stdout",
     "output_type": "stream",
     "text": [
      "absolutely\n",
      "productive\n",
      "day\n",
      "\n"
     ]
    }
   ],
   "source": [
    "'''read() reads all the lines in a file\n",
    "and prints them on separate lines\n",
    "readlines()reads all the lines in a file\n",
    "but prints them on the same line'''\n",
    "\n",
    "fh = open(\"day1.txt\")\n",
    "print (fh.read())\n",
    "fh.close()"
   ]
  },
  {
   "cell_type": "code",
   "execution_count": 5,
   "metadata": {},
   "outputs": [
    {
     "name": "stdout",
     "output_type": "stream",
     "text": [
      "['absolutely\\n', 'productive\\n', 'day\\n']\n"
     ]
    }
   ],
   "source": [
    "fh = open(\"day1.txt\")\n",
    "print (fh.readlines())\n",
    "fh.close()"
   ]
  },
  {
   "cell_type": "code",
   "execution_count": null,
   "metadata": {},
   "outputs": [],
   "source": []
  },
  {
   "cell_type": "code",
   "execution_count": null,
   "metadata": {},
   "outputs": [],
   "source": [
    "fh = open(\"day1.txt\", \"w\")\n",
    "fh.write( \"absolutely\\nproductive\\nday\\n\")\n",
    "fh.close()"
   ]
  },
  {
   "cell_type": "code",
   "execution_count": 24,
   "metadata": {},
   "outputs": [],
   "source": [
    "'''write mode writes and truncates from begining of a file\n",
    "append mode writes from the end of the file'''\n",
    "\n",
    "fh = open(\"day1.txt\", \"w\")\n",
    "fh.write(\"absolutely\\nproductive\\nday\\n\")\n",
    "fh.close()"
   ]
  },
  {
   "cell_type": "code",
   "execution_count": 25,
   "metadata": {},
   "outputs": [],
   "source": [
    "fh = open(\"day1.txt\", \"a\")\n",
    "fh.write(\"For append mode, this line is added to the end of the file\")\n",
    "fh.close()"
   ]
  },
  {
   "cell_type": "code",
   "execution_count": 26,
   "metadata": {},
   "outputs": [
    {
     "name": "stdout",
     "output_type": "stream",
     "text": [
      "absolutely\n",
      "productive\n",
      "day\n",
      "For append mode, this line is added to the end of the file\n"
     ]
    }
   ],
   "source": [
    "fh = open(\"day1.txt\")\n",
    "print (fh.read())\n",
    "fh.close()"
   ]
  },
  {
   "cell_type": "code",
   "execution_count": 27,
   "metadata": {},
   "outputs": [
    {
     "name": "stdout",
     "output_type": "stream",
     "text": [
      "For write mode, this line is added to the beginning of the file\n"
     ]
    }
   ],
   "source": [
    "fh = open(\"day1.txt\", \"w\")\n",
    "fh.write(\"For write mode, this line is added to the beginning of the file\")\n",
    "fh.close()\n",
    "fh = open(\"day1.txt\")\n",
    "print (fh.read())\n",
    "fh.close()"
   ]
  },
  {
   "cell_type": "markdown",
   "metadata": {},
   "source": [
    "4.Open a new file called new1.txt and write lines  \n",
    "- new operator\n",
    "- new findings\n",
    "- new text\n",
    "\n",
    "and then seek() and read all the lines."
   ]
  },
  {
   "cell_type": "code",
   "execution_count": 37,
   "metadata": {},
   "outputs": [
    {
     "name": "stdout",
     "output_type": "stream",
     "text": [
      "Current location is 36\n",
      "Location after seek() is  0\n",
      "new operator\n",
      "new findings\n",
      "\n",
      "new text\n",
      "\n"
     ]
    }
   ],
   "source": [
    "fh = open(\"new1.txt\", 'w')\n",
    "fh.write (\"new operator\\nnew findings\\n\\nnew text\\n\")\n",
    "print (\"Current location is\", fh.tell())\n",
    "print (\"Location after seek() is \", fh.seek(0,0))\n",
    "fh.close()\n",
    "fh = open(\"new1.txt\")\n",
    "# print (\"Contents of new1.txt is\\n\"\n",
    "print (\"\\n\")fh.read())"
   ]
  },
  {
   "cell_type": "code",
   "execution_count": null,
   "metadata": {},
   "outputs": [],
   "source": []
  }
 ],
 "metadata": {
  "kernelspec": {
   "display_name": "Python 3",
   "language": "python",
   "name": "python3"
  },
  "language_info": {
   "codemirror_mode": {
    "name": "ipython",
    "version": 3
   },
   "file_extension": ".py",
   "mimetype": "text/x-python",
   "name": "python",
   "nbconvert_exporter": "python",
   "pygments_lexer": "ipython3",
   "version": "3.7.0"
  }
 },
 "nbformat": 4,
 "nbformat_minor": 2
}
