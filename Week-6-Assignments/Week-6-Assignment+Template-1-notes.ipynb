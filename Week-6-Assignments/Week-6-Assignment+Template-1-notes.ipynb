{
 "cells": [
  {
   "cell_type": "markdown",
   "metadata": {},
   "source": [
    "# Reading and Writing Text Files Writing Assignment 1"
   ]
  },
  {
   "cell_type": "markdown",
   "metadata": {},
   "source": [
    "1. Read file text1.txt and count the number of non-empty lines in the file. Use tell() to find the file pointer’s position."
   ]
  },
  {
   "cell_type": "markdown",
   "metadata": {},
   "source": [
    "### text1.txt file contents"
   ]
  },
  {
   "cell_type": "markdown",
   "metadata": {},
   "source": [
    "```\n",
    "fun will follow\n",
    "when you\n",
    "work\n",
    "and\n",
    "finish tasks\n",
    "```"
   ]
  },
  {
   "cell_type": "markdown",
   "metadata": {},
   "source": [
    "reference: https://www.tutorialspoint.com/python/python_files_io.htm"
   ]
  },
  {
   "cell_type": "code",
   "execution_count": 23,
   "metadata": {},
   "outputs": [
    {
     "name": "stdout",
     "output_type": "stream",
     "text": [
      "Number of lines in text1.txt =  5\n"
     ]
    }
   ],
   "source": [
    "fh = open(\"text1.txt\", \"r\")\n",
    "num_lines = sum(1 for line in open('text1.txt'))\n",
    "print (\"Number of lines in text1.txt = \", num_lines)"
   ]
  },
  {
   "cell_type": "code",
   "execution_count": 43,
   "metadata": {},
   "outputs": [
    {
     "name": "stdout",
     "output_type": "stream",
     "text": [
      "fun will follow\n",
      "when you\n",
      "work\n",
      "and\n",
      "finish tasks\n"
     ]
    }
   ],
   "source": [
    "fh = open(\"text1.txt\", \"r\")\n",
    "print (fh.read())\n",
    "fh.close()"
   ]
  },
  {
   "cell_type": "code",
   "execution_count": 48,
   "metadata": {},
   "outputs": [
    {
     "name": "stdout",
     "output_type": "stream",
     "text": [
      "fun will follow\n",
      "\n"
     ]
    }
   ],
   "source": [
    "fh = open(\"text1.txt\", \"r\")\n",
    "print (fh.readline())\n",
    "fh.close()"
   ]
  },
  {
   "cell_type": "code",
   "execution_count": 49,
   "metadata": {},
   "outputs": [
    {
     "name": "stdout",
     "output_type": "stream",
     "text": [
      "['fun will follow\\n', 'when you\\n', 'work\\n', 'and\\n', 'finish tasks']\n"
     ]
    }
   ],
   "source": [
    "fh = open(\"text1.txt\", \"r\")\n",
    "print (fh.readlines())\n",
    "fh.close()"
   ]
  },
  {
   "cell_type": "code",
   "execution_count": 38,
   "metadata": {},
   "outputs": [
    {
     "name": "stdout",
     "output_type": "stream",
     "text": [
      "Current Position:  25\n"
     ]
    }
   ],
   "source": [
    "# line5 = fh.read(5)\n",
    "# print (\"Read Line is:\" , line5)\n",
    "\n",
    "pos = fh.tell()\n",
    "print (\"Current Position: \" , (pos))"
   ]
  },
  {
   "cell_type": "markdown",
   "metadata": {},
   "source": [
    "2.Write the following words in to a new file day1.txt.\n",
    "- absolutely\n",
    "- productive\n",
    "- day"
   ]
  },
  {
   "cell_type": "code",
   "execution_count": 29,
   "metadata": {},
   "outputs": [
    {
     "ename": "UnsupportedOperation",
     "evalue": "not readable",
     "output_type": "error",
     "traceback": [
      "\u001b[0;31m---------------------------------------------------------------------------\u001b[0m",
      "\u001b[0;31mUnsupportedOperation\u001b[0m                      Traceback (most recent call last)",
      "\u001b[0;32m<ipython-input-29-2581f3591139>\u001b[0m in \u001b[0;36m<module>\u001b[0;34m()\u001b[0m\n\u001b[1;32m      3\u001b[0m \u001b[0mfo\u001b[0m\u001b[0;34m.\u001b[0m\u001b[0mwrite\u001b[0m\u001b[0;34m(\u001b[0m \u001b[0;34m\"absolutely\\nproductive\\nday\\n\"\u001b[0m\u001b[0;34m)\u001b[0m\u001b[0;34m;\u001b[0m\u001b[0;34m\u001b[0m\u001b[0m\n\u001b[1;32m      4\u001b[0m \u001b[0;34m\u001b[0m\u001b[0m\n\u001b[0;32m----> 5\u001b[0;31m \u001b[0mlines\u001b[0m \u001b[0;34m=\u001b[0m \u001b[0mfo\u001b[0m\u001b[0;34m.\u001b[0m\u001b[0mreadlines\u001b[0m\u001b[0;34m(\u001b[0m\u001b[0;34m)\u001b[0m\u001b[0;34m\u001b[0m\u001b[0m\n\u001b[0m\u001b[1;32m      6\u001b[0m \u001b[0;32mfor\u001b[0m \u001b[0mline\u001b[0m \u001b[0;32min\u001b[0m \u001b[0mlines\u001b[0m\u001b[0;34m:\u001b[0m\u001b[0;34m\u001b[0m\u001b[0m\n\u001b[1;32m      7\u001b[0m     \u001b[0mprint\u001b[0m \u001b[0;34m(\u001b[0m\u001b[0mline\u001b[0m\u001b[0;34m)\u001b[0m\u001b[0;34m\u001b[0m\u001b[0m\n",
      "\u001b[0;31mUnsupportedOperation\u001b[0m: not readable"
     ]
    }
   ],
   "source": [
    "# Open a file\n",
    "fo = open(\"day1.txt\", \"w\")\n",
    "fo.write( \"absolutely\\nproductive\\nday\\n\");\n",
    "\n",
    "lines = fo.readlines()\n",
    "for line in lines:\n",
    "    print (line)\n",
    "\n",
    "\n",
    "# Close opend file\n",
    "fo.close()"
   ]
  },
  {
   "cell_type": "code",
   "execution_count": 52,
   "metadata": {},
   "outputs": [],
   "source": [
    "fh = open(\"day1.txt\", \"w\")\n",
    "fh.write( \"absolutely\\nproductive\\nday\\n\");\n",
    "fh.close()\n",
    "# print (fh.readlines())\n"
   ]
  },
  {
   "cell_type": "code",
   "execution_count": 53,
   "metadata": {},
   "outputs": [
    {
     "name": "stdout",
     "output_type": "stream",
     "text": [
      "['absolutely\\n', 'productive\\n', 'day\\n']\n"
     ]
    }
   ],
   "source": [
    "fh = open(\"day1.txt\")\n",
    "print (fh.readlines())"
   ]
  },
  {
   "cell_type": "markdown",
   "metadata": {},
   "source": [
    "reference: read/readline/readlines https://www.youtube.com/watch?v=NXVjsmKRmyU\n",
    "reference: use context managers https://www.youtube.com/watch?v=Uh2ebFW8OYM to automatically close files"
   ]
  },
  {
   "cell_type": "markdown",
   "metadata": {},
   "source": [
    "3.What is the difference between\n",
    "- read() and readlines() methods.\n",
    "- Write and append access modes."
   ]
  },
  {
   "cell_type": "code",
   "execution_count": null,
   "metadata": {
    "collapsed": true
   },
   "outputs": [],
   "source": []
  },
  {
   "cell_type": "markdown",
   "metadata": {},
   "source": [
    "4.Open a new file called new1.txt and write lines  \n",
    "- new operator\n",
    "- new findings\n",
    "- new text\n",
    "\n",
    "and then seek() and read all the lines."
   ]
  },
  {
   "cell_type": "code",
   "execution_count": 10,
   "metadata": {},
   "outputs": [
    {
     "name": "stdout",
     "output_type": "stream",
     "text": [
      "<_io.TextIOWrapper name='new1.txt' mode='r' encoding='UTF-8'>\n"
     ]
    }
   ],
   "source": [
    "# with open(\"new1.txt\",'w',encoding = 'utf-8') as fh:\n",
    "#   fh.write(\"new operator\\n\")\n",
    "#   fh.write(\"new findings\\n\\n\")\n",
    "#   fh.write(\"new text\\n\")\n",
    "\n",
    "fh.seek(0,0)\n",
    "\n",
    "print (fh)\n",
    "\n",
    "# fh = open(\"new1.txt\")\n",
    "# print (fh.read())"
   ]
  },
  {
   "cell_type": "code",
   "execution_count": 9,
   "metadata": {},
   "outputs": [
    {
     "name": "stdout",
     "output_type": "stream",
     "text": [
      "36\n",
      "0\n",
      "new operator\n",
      "new findings\n",
      "\n",
      "new text\n",
      "\n"
     ]
    }
   ],
   "source": [
    "fh = open(\"new1.txt\", 'w')\n",
    "fh.write (\"new operator\\nnew findings\\n\\nnew text\\n\")\n",
    "print (fh.tell())\n",
    "print (fh.seek(0,0))\n",
    "fh.close()\n",
    "fh = open(\"new1.txt\")\n",
    "print (fh.read())"
   ]
  },
  {
   "cell_type": "code",
   "execution_count": null,
   "metadata": {},
   "outputs": [],
   "source": []
  }
 ],
 "metadata": {
  "kernelspec": {
   "display_name": "Python 3",
   "language": "python",
   "name": "python3"
  },
  "language_info": {
   "codemirror_mode": {
    "name": "ipython",
    "version": 3
   },
   "file_extension": ".py",
   "mimetype": "text/x-python",
   "name": "python",
   "nbconvert_exporter": "python",
   "pygments_lexer": "ipython3",
   "version": "3.7.0"
  }
 },
 "nbformat": 4,
 "nbformat_minor": 2
}
